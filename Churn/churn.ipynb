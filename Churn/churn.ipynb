{
 "cells": [
  {
   "cell_type": "code",
   "execution_count": 1,
   "id": "51efeb03",
   "metadata": {},
   "outputs": [],
   "source": [
    "import pandas as pd\n",
    "import numpy as np\n",
    "from sklearn.linear_model import LogisticRegression\n",
    "from sklearn.ensemble import RandomForestClassifier\n",
    "from sklearn.svm import SVC\n",
    "from sklearn.preprocessing import StandardScaler\n",
    "from sklearn.model_selection import train_test_split\n",
    "from sklearn.metrics import roc_auc_score, classification_report\n",
    "from imblearn.under_sampling import RandomUnderSampler\n"
   ]
  },
  {
   "cell_type": "code",
   "execution_count": 2,
   "id": "1d4195ec",
   "metadata": {},
   "outputs": [],
   "source": [
    "df = pd.read_csv(\"C:/Users/hamga/Downloads/EarlyRetirementPrediction.csv\")  \n",
    "df.columns = df.columns.str.strip().str.lower().str.replace(\" \", \"_\")"
   ]
  },
  {
   "cell_type": "code",
   "execution_count": 3,
   "id": "fb832471",
   "metadata": {},
   "outputs": [],
   "source": [
    "X = df.drop(columns=[\"retire_before_65_years_old\", \"probabilidades_de_retiro_temprano\"])\n",
    "y = df[\"retire_before_65_years_old\"]"
   ]
  },
  {
   "cell_type": "code",
   "execution_count": 4,
   "id": "cea7b6ab",
   "metadata": {},
   "outputs": [],
   "source": [
    "scaler = StandardScaler()\n",
    "X_scaled = scaler.fit_transform(X)"
   ]
  },
  {
   "cell_type": "code",
   "execution_count": 5,
   "id": "504dcb22",
   "metadata": {},
   "outputs": [],
   "source": [
    "X_train, X_test, y_train, y_test = train_test_split(\n",
    "    X_scaled, y, test_size=0.3, stratify=y, random_state=42\n",
    ")"
   ]
  },
  {
   "cell_type": "code",
   "execution_count": 6,
   "id": "0dbc6939",
   "metadata": {},
   "outputs": [],
   "source": [
    "def ensamblado_modelos(X_train, y_train, X_full, n_modelos=15, random_state=42):\n",
    "    preds_logit, preds_rf, preds_svm = [], [], []\n",
    "    importancias = []\n",
    "\n",
    "    for i in range(n_modelos):\n",
    "        rus = RandomUnderSampler(random_state=random_state + i)\n",
    "        X_res, y_res = rus.fit_resample(X_train, y_train)\n",
    "\n",
    "        logit = LogisticRegression(max_iter=1000)\n",
    "        rf = RandomForestClassifier(n_estimators=100, random_state=random_state + i)\n",
    "        svm = SVC(probability=True)\n",
    "\n",
    "        logit.fit(X_res, y_res)\n",
    "        rf.fit(X_res, y_res)\n",
    "        svm.fit(X_res, y_res)\n",
    "\n",
    "        preds_logit.append(logit.predict_proba(X_full)[:, 1])\n",
    "        preds_rf.append(rf.predict_proba(X_full)[:, 1])\n",
    "        preds_svm.append(svm.predict_proba(X_full)[:, 1])\n",
    "\n",
    "        importancias.append(rf.feature_importances_)\n",
    "\n",
    "    df_preds = pd.DataFrame({\n",
    "        \"score_logit\": np.mean(preds_logit, axis=0),\n",
    "        \"score_rf\": np.mean(preds_rf, axis=0),\n",
    "        \"score_svm\": np.mean(preds_svm, axis=0)\n",
    "    })\n",
    "\n",
    "    df_preds[\"score_promedio\"] = df_preds.mean(axis=1)\n",
    "    importancia_media = np.mean(importancias, axis=0)\n",
    "\n",
    "    return df_preds, importancia_media"
   ]
  },
  {
   "cell_type": "code",
   "execution_count": 7,
   "id": "d4939de7",
   "metadata": {},
   "outputs": [],
   "source": [
    "df_scores_all, importancia = ensamblado_modelos(X_train, y_train, X_scaled)"
   ]
  },
  {
   "cell_type": "code",
   "execution_count": 8,
   "id": "dd6b6892",
   "metadata": {},
   "outputs": [],
   "source": [
    "df_final = pd.concat([df.reset_index(drop=True), df_scores_all], axis=1)"
   ]
  },
  {
   "cell_type": "code",
   "execution_count": 9,
   "id": "5393ebf1",
   "metadata": {},
   "outputs": [],
   "source": [
    "df_final[\"riesgo\"] = pd.cut(df_final[\"score_promedio\"],\n",
    "                            bins=[0, 0.4, 0.7, 1],\n",
    "                            labels=[\"Bajo\", \"Medio\", \"Alto\"])"
   ]
  },
  {
   "cell_type": "code",
   "execution_count": 10,
   "id": "8326fd52",
   "metadata": {},
   "outputs": [],
   "source": [
    "df_final.insert(0, \"ID\", [\"CL\" + str(i).zfill(4) for i in range(1, len(df_final)+1)])"
   ]
  },
  {
   "cell_type": "code",
   "execution_count": null,
   "id": "08060195",
   "metadata": {},
   "outputs": [],
   "source": []
  },
  {
   "cell_type": "code",
   "execution_count": 17,
   "id": "2c94c841",
   "metadata": {},
   "outputs": [],
   "source": [
    "df_final.to_csv(\"clientes_con_score.csv\", index=False)\n",
    "\n",
    "# 2. Top 20 clientes con mayor riesgo\n",
    "df_top20 = df_final.sort_values(\"score_promedio\", ascending=False).head(20)\n",
    "df_top20.to_csv(\"top_20_clientes_riesgo_alto.csv\", index=False)\n",
    "\n",
    "# 3. Segmentación de riesgo\n",
    "df_riesgo = df_final[\"riesgo\"].value_counts().reset_index()\n",
    "df_riesgo.columns = [\"riesgo\", \"cantidad\"]\n",
    "df_riesgo.to_csv(\"tabla_riesgos_segmentados.csv\", index=False)\n",
    "\n",
    "# 4. Importancia de variables\n",
    "nombres_ejecutivos = {\n",
    "    \"dependants\": \"Personas a cargo\",\n",
    "    \"credit_score\": \"Puntaje crediticio\",\n",
    "    \"monthly_income\": \"Ingreso mensual del cliente\",\n",
    "    \"unemployment_rate\": \"Tasa de desempleo nacional\",\n",
    "    \"stock_market\": \"Estado del mercado bursatil\",\n",
    "    \"government_bonds_return\": \"Rendimiento de bonos gubernamentales\",\n",
    "    \"education_level\": \"Nivel educativo del cliente\",\n",
    "    \"gender\": \"Genero del cliente\",\n",
    "    \"desease\": \"Condiciones de salud\",\n",
    "    \"marital_status\": \"Estado civil del cliente\",\n",
    "    \"employee/employer\": \"Tipo de ocupacion (Empleado/Empleador)\"\n",
    "}\n",
    "\n",
    "# Crear DataFrame de importancia con nombres ejecutivos\n",
    "df_importancia = pd.DataFrame({\n",
    "    \"variable\": X.columns,\n",
    "    \"importancia_rf\": importancia\n",
    "})\n",
    "\n",
    "# Reemplazar nombres\n",
    "df_importancia[\"variable\"] = df_importancia[\"variable\"].replace(nombres_ejecutivos)\n",
    "\n",
    "# Ordenar y exportar\n",
    "df_importancia = df_importancia.sort_values(\"importancia_rf\", ascending=False)\n",
    "df_importancia.to_csv(\"importancia_variables_rf.csv\", index=False)\n",
    "df_importancia.to_csv(\"importancia_variables_rf.csv\", index=False)"
   ]
  },
  {
   "cell_type": "code",
   "execution_count": 12,
   "id": "a78a4cc8",
   "metadata": {},
   "outputs": [
    {
     "name": "stdout",
     "output_type": "stream",
     "text": [
      "\n",
      "✅ AUC Score (test): 0.8278\n",
      "\n",
      "📋 Classification Report (corte 0.5):\n",
      "              precision    recall  f1-score   support\n",
      "\n",
      "           0       0.81      0.81      0.81       238\n",
      "           1       0.79      0.79      0.79       212\n",
      "\n",
      "    accuracy                           0.80       450\n",
      "   macro avg       0.80      0.80      0.80       450\n",
      "weighted avg       0.80      0.80      0.80       450\n",
      "\n"
     ]
    }
   ],
   "source": [
    "# === Evaluación del modelo con TEST ===\n",
    "modelo_eval = RandomForestClassifier(n_estimators=100, random_state=42)\n",
    "modelo_eval.fit(X_train, y_train)\n",
    "y_pred_prob = modelo_eval.predict_proba(X_test)[:, 1]\n",
    "y_pred = (y_pred_prob >= 0.5).astype(int)\n",
    "\n",
    "auc = roc_auc_score(y_test, y_pred_prob)\n",
    "print(f\"\\n✅ AUC Score (test): {auc:.4f}\")\n",
    "print(\"\\n📋 Classification Report (corte 0.5):\")\n",
    "print(classification_report(y_test, y_pred))"
   ]
  }
 ],
 "metadata": {
  "kernelspec": {
   "display_name": ".venv",
   "language": "python",
   "name": "python3"
  },
  "language_info": {
   "codemirror_mode": {
    "name": "ipython",
    "version": 3
   },
   "file_extension": ".py",
   "mimetype": "text/x-python",
   "name": "python",
   "nbconvert_exporter": "python",
   "pygments_lexer": "ipython3",
   "version": "3.11.4"
  }
 },
 "nbformat": 4,
 "nbformat_minor": 5
}
